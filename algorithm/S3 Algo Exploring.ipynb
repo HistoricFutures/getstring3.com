{
 "cells": [
  {
   "cell_type": "code",
   "execution_count": 1,
   "metadata": {
    "collapsed": false
   },
   "outputs": [
    {
     "name": "stdout",
     "output_type": "stream",
     "text": [
      "Populating the interactive namespace from numpy and matplotlib\n"
     ]
    },
    {
     "name": "stderr",
     "output_type": "stream",
     "text": [
      "WARNING: pylab import has clobbered these variables: ['Annotation', 'Figure']\n",
      "`%matplotlib` prevents importing * from pylab and numpy\n"
     ]
    },
    {
     "data": {
      "text/plain": [
       "(0.0, 1.0, 0.0, 1.0)"
      ]
     },
     "execution_count": 1,
     "metadata": {},
     "output_type": "execute_result"
    },
    {
     "data": {
      "image/png": "[encoded data removed]",
      "text/plain": [
       "<matplotlib.figure.Figure at 0x104284750>"
      ]
     },
     "metadata": {},
     "output_type": "display_data"
    }
   ],
   "source": [
    "import networkx as nx\n",
    "import plotly.plotly as py\n",
    "from plotly.graph_objs import * \n",
    "import matplotlib.pyplot as plt\n",
    "import operator\n",
    "import scipy as sp\n",
    "\n",
    "%pylab inline\n",
    "plt.show()\n",
    "plt.axis('off')"
   ]
  },
  {
   "cell_type": "code",
   "execution_count": 384,
   "metadata": {
    "collapsed": false
   },
   "outputs": [
    {
     "name": "stdout",
     "output_type": "stream",
     "text": [
      "Chain Length Summary\n",
      "3 16\n",
      "4 1\n",
      "5 10\n",
      "6 2\n",
      "7 9\n",
      "8 6\n",
      "9 2\n",
      "11 2\n",
      "12 1\n",
      "14 1\n"
     ]
    }
   ],
   "source": [
    "import sqlite3\n",
    "conn = sqlite3.connect('data/bifurcation/dataset.sqlite3')\n",
    "c = conn.cursor()\n",
    "\n",
    "def get_useful_cursor(table):\n",
    "    c.execute('SELECT * FROM {}'.format(table))\n",
    "    columns = [col[0] for col in c.description]\n",
    "    for raw in c.fetchall():\n",
    "        yield dict(zip(columns, raw))\n",
    "\n",
    "tables = [t[0] for t in c.execute(\"SELECT name FROM sqlite_master WHERE type='table';\")]\n",
    "assert tables == ['entity', 'question', 'ask']\n",
    "        \n",
    "questions = {}\n",
    "\n",
    "for row in get_useful_cursor('ask'):\n",
    "    question = row['question']\n",
    "\n",
    "    if question not in questions:\n",
    "        questions[question] = {'graph': nx.DiGraph(), 'initiators': []}\n",
    "        \n",
    "    start = row.get('time_start')\n",
    "    end = row.get('time_ack')\n",
    "    answer = row.get('answer')\n",
    "    \n",
    "    questions[question]['graph'].add_edge(str(row['entity_from']), \n",
    "                                          str(row['entity_to']), \n",
    "                                          start=start, \n",
    "                                          end=end, \n",
    "                                          answer=answer)\n",
    "\n",
    "chain_length_summary = {}    \n",
    "    \n",
    "count = 0\n",
    "for q in questions:\n",
    "    count += 1\n",
    "#     if count != 2:\n",
    "#         continue\n",
    "    g = questions[q]['graph']\n",
    "    #   nx.draw_graphviz(g, with_labels=True)\n",
    "    #nx.draw_spring(g, with_labels=True)\n",
    "    l = len(g.edges()) + 1\n",
    "    if l not in chain_length_summary:\n",
    "        chain_length_summary[l] = 0\n",
    "\n",
    "    chain_length_summary[l] += 1\n",
    "#     print g.edges()\n",
    "#     print g.nodes()\n",
    "    for n in g.nodes_iter():\n",
    "        if g.predecessors(n) == []:\n",
    "            questions[q]['initiator'] = n\n",
    "            break\n",
    "    \n",
    "print \"Chain Length Summary\"\n",
    "sorted(chain_length_summary.items(), key=operator.itemgetter(0))\n",
    "for k, v in chain_length_summary.items():\n",
    "    print k, v\n",
    "    "
   ]
  },
  {
   "cell_type": "code",
   "execution_count": 96,
   "metadata": {
    "collapsed": false
   },
   "outputs": [
    {
     "data": {
      "image/png": "[encoded data removed]",
      "text/plain": [
       "<matplotlib.figure.Figure at 0x109712050>"
      ]
     },
     "metadata": {},
     "output_type": "display_data"
    }
   ],
   "source": [
    "G = nx.DiGraph()\n",
    "\n",
    "G.add_edge('AA', 'BB', start=10, end=20)\n",
    "G.add_edge('BB', 'CC', start=30, end=50)\n",
    "G.add_edge('BB', 'DD', start=25, end=100, answer=120)\n",
    "G.add_edge('DD', 'EE', start=130, end=140, answer=150)\n",
    "G.add_edge('BB', 'FF', start=35, end=None)\n",
    "        \n",
    "nx.draw_graphviz(G, with_labels=True)"
   ]
  },
  {
   "cell_type": "code",
   "execution_count": 240,
   "metadata": {
    "collapsed": false
   },
   "outputs": [],
   "source": [
    "def build_ack_table(G, verbose=False):\n",
    "    table = {}\n",
    "    for u, v, edata in G.edges(data=True):\n",
    "        start = edata.get('start')\n",
    "        end = edata.get('end')\n",
    "        if end is None:\n",
    "            if verbose is True:\n",
    "                print \"{node} didn't acknowledge\".format(node=v)\n",
    "            continue\n",
    "        if verbose is True:            \n",
    "            print \"{node} acknowledged in {time} minutes\".format(node=v, time=end-start)\n",
    "        table[v] = {'ACK': end - start, 't': end}\n",
    "    return table\n"
   ]
  },
  {
   "cell_type": "code",
   "execution_count": 241,
   "metadata": {
    "collapsed": false
   },
   "outputs": [],
   "source": [
    "def build_route_table(G, ack_table, verbose=False):\n",
    "    table = {}\n",
    "    for u, v, edata in G.edges(data=True):\n",
    "        start = edata.get('start')\n",
    "        end = edata.get('end')\n",
    "        \n",
    "        if u not in table:\n",
    "            table[u] = []\n",
    "            \n",
    "        ack = ack_table.get(u)\n",
    "        if ack is None:\n",
    "            continue\n",
    "        \n",
    "        t = ack.get('t')\n",
    "                    \n",
    "        table[u].append(start - t)\n",
    "\n",
    "    return table\n"
   ]
  },
  {
   "cell_type": "code",
   "execution_count": 252,
   "metadata": {
    "collapsed": false
   },
   "outputs": [],
   "source": [
    "def build_raw_score_table(G, initiator, ack_table, route_table, verbose=False):\n",
    "    #\n",
    "    # ACK + max(ROUTE1, ROUTE2, ROUTE3)\n",
    "    #\n",
    "    table = {}    \n",
    "    \n",
    "    for u, v, edata in G.edges(data=True):\n",
    "        if u in table:\n",
    "            continue\n",
    "            \n",
    "        a = ack_table.get(u)\n",
    "        if a is None:\n",
    "            ack = 0\n",
    "        else:\n",
    "            ack = a.get('ACK')\n",
    "        route = route_table.get(u)\n",
    "        if any(route):\n",
    "            value = ack + max(route)\n",
    "            table[u] = value      \n",
    "            if verbose is True:\n",
    "                print \"{node} = {ack} + max({route}) = {value}\".format(node=u, ack=ack, route=route, value=value)\n",
    "\n",
    "        \n",
    "    for node, ack in ack_table.items():\n",
    "        if node in table:\n",
    "            continue\n",
    "            \n",
    "        table[node] = ack.get('ACK')\n",
    "\n",
    "    table[initiator] = 0\n",
    "    return table\n",
    "        "
   ]
  },
  {
   "cell_type": "code",
   "execution_count": 330,
   "metadata": {
    "collapsed": false
   },
   "outputs": [
    {
     "name": "stdout",
     "output_type": "stream",
     "text": [
      "(17.5, {'CC': 20, 'EE': 10, 'DD': 110.0, 'AA': 17.5, 'BB': 35.0})\n"
     ]
    }
   ],
   "source": [
    "import numpy\n",
    "def median(lst):\n",
    "    return numpy.median(numpy.array(lst))\n",
    "\n",
    "\n",
    "def network_responsive_median_over_two(g, initiator, node, \n",
    "                                       ack_table=None, \n",
    "                                       route_table=None, \n",
    "                                       raw_score_table=None,\n",
    "                                       table=None,\n",
    "                                       verbose=False):\n",
    "    \n",
    "    if ack_table is None:\n",
    "        ack_table = build_ack_table(g, verbose)\n",
    "        if verbose is True:\n",
    "            print \"== ACK TABLE ==\"\n",
    "            print ack_table\n",
    "\n",
    "    if route_table is None:\n",
    "        route_table = build_route_table(g, ack_table, verbose)\n",
    "        if verbose is True:\n",
    "            print \"== ROUTING TABLE ==\"\n",
    "            print route_table\n",
    "\n",
    "    if raw_score_table is None:\n",
    "        raw_score_table = build_raw_score_table(g, initiator, ack_table, route_table, verbose)\n",
    "        if verbose is True:\n",
    "            print \"== RAW SCORE TABLE ==\"        \n",
    "            print raw_score_table\n",
    "\n",
    "    if table is None:\n",
    "        table = {}\n",
    "            \n",
    "    raw = raw_score_table.get(node)\n",
    "    if raw is None:\n",
    "        return 0, table\n",
    "    \n",
    "    child_scores = []\n",
    "    successors = g.successors(node)\n",
    "    if verbose is True:\n",
    "        print \"{node} has {n} successors {successors}\".format(node=node, n=len(successors), successors=successors)\n",
    "    if len(successors) > 0:\n",
    "\n",
    "        for n in successors:        \n",
    "            score, _ = network_responsive_median_over_two(g, initiator, n, \n",
    "                                                          ack_table=ack_table, \n",
    "                                                          route_table=route_table, \n",
    "                                                          raw_score_table=raw_score_table, \n",
    "                                                          table=table,\n",
    "                                                          verbose=verbose)\n",
    "\n",
    "            child_scores.append(score)\n",
    "        table[node] = raw + median(child_scores) / 2\n",
    "        return table[node], table\n",
    "\n",
    "    table[node] = raw\n",
    "    return table[node], table\n",
    "        \n",
    "print network_responsive_median_over_two(G, 'AA', 'AA', verbose=False)\n",
    "assert network_responsive_median_over_two(G, 'AA', 'AA', verbose=False) == (17.5, {'CC': 20, 'EE': 10, 'DD': 110.0, 'AA': 17.5, 'BB': 35.0})"
   ]
  },
  {
   "cell_type": "code",
   "execution_count": 353,
   "metadata": {
    "collapsed": false
   },
   "outputs": [
    {
     "name": "stdout",
     "output_type": "stream",
     "text": [
      "{'24': [0.03552505886399615, 0.0971805416239988, 0.3840311931829987, 0.4368483937879972, 0.5966907895282998, 0.41675636114699977], '25': [5.424849924179995, 3.2971605232800005, 8.314194494592002, 2.803572938704799, 23.646982942943, 12.0076726551777, 7.5890004387046, 5.03431465377], '26': [0.8669386577360001, 3.0748863367849992, 2.3986946300899987], '27': [6.6318874492260065, 38.39412528331751, 3.5625866665291, 2.1527718684900066, 9.535054007977998], '20': [17.114829900781, 15.776860528178, 20.806326848459999, 29.365815947517, 9.8509417660411494, 20.629148674743, 29.402013887075999], '21': [8.015406169262, 1.5737664509489946, 3.1064825200440005], '22': [0.4432320303903001, 1.8172049127439998, 1.6060823333209981], '23': [0.24069552262800187, 0.020618077866100037, 0.3128886280160046], '28': [2.591799608606003, 0.42377311603999956, 0.6538863945899998, 3.398798452895008, 1.8121531172000118, 1.5523463684519996, 1.0348094153349905], '29': [1.2805846327513, 1.5842785859569997, 3.513932331446995, 3.3992053808850002, 8.040546397665999], '1': [13.063609002819627, 5.9255219251188507, 46.095701557213744], '3': [12.0156336273095, 32.163981541874001, 10.416775589381, 2.9023365696664749, 3.5263149792120005, 38.661160193172748, 80.629974505825004, 34.098394854289751], '2': [9.8938794497214992, 26.907884472632752, 10.429949810262499, 9.2991898408042495, 14.772681805137999, 10.3145743373715, 1.0217780097205749], '5': [70.530720993925001, 30.838917318497501, 8.5574149503905002, 5.3055750631562493, 23.65311058160075, 14.6829079737585], '4': [33.871335426632498, 11.446849123473999, 60.722669671072495, 6.2857236812217501, 28.1521162493435], '7': [29.903586023803499, 23.193599984704498, 1.1341180629545751, 9.3633929796095003, 23.955877184766997, 7.8049664241395007], '6': [14.8776992550385, 10.40316342423, 8.4856382417454999], '9': [7.8884302640890001, 0.51291066629127502, 7.0636877358307499, 10.321298849139499, 35.451718369387251], '8': [1.6484712618040751, 8.3752444326894988, 17.252602455500998, 14.701006943537999], '11': [3.2969425236081502, 18.598379681608499], '10': [43.543232239213751, 4.9254708830205747, 5.2365990473767496], '13': [141.06144198785, 26.127218005639254], '12': [29.755398510077001, 5.8046731393329498, 11.851043850237701, 15.609932848279001, 2.0435560194411497], '15': [67.742670853264997, 87.086464478427501], '14': [19.787758899442998, 59.807172047606997, 46.387199969408996, 20.859899620524999, 12.5714473624435, 16.750488865378998, 20.642597698278998], '17': [61.677834636995001, 64.327963083748003, 20.833551178762001, 10.611150126312499, 121.44533934214499, 16.971276483491, 1.02582133258255, 29.545363610275999, 14.1273754716615, 68.196789708579502, 18.726785959219001, 92.191403114427487, 34.505204911001996, 10.473198094753499], '16': [2.2682361259091501, 56.304232498687], '19': [53.815768945265503, 47.306221163201499, 161.25994901165001, 47.911754369533995], '18': [24.031267254618999, 22.893698246947999, 7.0526299584240011, 77.322320386345496, 70.903436738774502], '30': [4.541500236144003, 12.291440071674998, 2.4466513298500008]}\n"
     ]
    }
   ],
   "source": [
    "def build_history_table(questions):\n",
    "    table = {}\n",
    "    for uid, data in questions.items():\n",
    "        initiator = data['initiator']\n",
    "        \n",
    "        _, network_values = network_responsive_median_over_two(data['graph'], initiator, initiator, verbose=False)\n",
    "\n",
    "        for entity, value in network_values.items():\n",
    "            if entity not in table:\n",
    "                table[entity] = []\n",
    "                \n",
    "            table[entity].append(value)\n",
    "    return table\n",
    "\n",
    "print build_history_table(questions)"
   ]
  },
  {
   "cell_type": "code",
   "execution_count": 354,
   "metadata": {
    "collapsed": false
   },
   "outputs": [
    {
     "name": "stdout",
     "output_type": "stream",
     "text": [
      "{'24': 0.32783872302238176, '25': 8.5147185714190119, '26': 2.1135065415369994, '27': 12.055285055108124, '20': 20.42084822182802, '21': 4.2318850467516649, '22': 1.2888397588184326, '23': 0.19140074283670216, '28': 1.6382237818740017, '29': 3.5637094657412591, '1': 21.694944161717405, '3': 26.801821482591308, '2': 11.805705389378726, '5': 25.594774480221414, '4': 28.095738830348846, '7': 15.892590109996428, '6': 11.255500307004667, '9': 12.247609176947554, '8': 10.494331273383143, '11': 10.947661102608325, '10': 17.901767389870358, '13': 83.594329996744634, '12': 13.012920873473561, '15': 77.414567665846249, '14': 28.1152234947265, '17': 40.33278978956821, '16': 29.286234312298074, '19': 77.573423372412748, '18': 40.440670517022198, '30': 6.4265305458896664}\n"
     ]
    }
   ],
   "source": [
    "def reduce_history(table):\n",
    "    reduced = {}\n",
    "    for uid, history in table.items():\n",
    "        reduced[uid] = mean(history)\n",
    "    return reduced\n",
    "    \n",
    "print reduce_history(build_history_table(questions))\n",
    "    "
   ]
  },
  {
   "cell_type": "code",
   "execution_count": 385,
   "metadata": {
    "collapsed": false
   },
   "outputs": [
    {
     "name": "stdout",
     "output_type": "stream",
     "text": [
      "1 ('28', 0.46246441836833502)\n",
      "2 ('22', 0.9526285781016085)\n",
      "3 ('21', 1.0281640766736)\n",
      "4 ('30', 1.1894088668875233)\n",
      "5 ('23', 1.5279909899844466)\n",
      "6 ('24', 2.3638771413977824)\n",
      "7 ('26', 6.7644165907615674)\n",
      "8 ('17', 7.5369450174567749)\n",
      "9 ('29', 8.8647144358956229)\n",
      "10 ('9', 10.884374425938791)\n",
      "11 ('6', 12.508148921906244)\n",
      "12 ('25', 13.970325225509029)\n",
      "13 ('2', 14.004478299887822)\n",
      "14 ('1', 14.634470305087945)\n",
      "15 ('5', 16.17890269616327)\n",
      "16 ('16', 17.229102592499103)\n",
      "17 ('7', 18.44157096022337)\n",
      "18 ('19', 20.67004170174544)\n",
      "19 ('3', 21.309704636033064)\n",
      "20 ('10', 22.911293090328169)\n",
      "21 ('13', 23.122300269988518)\n",
      "22 ('18', 27.639013838966726)\n",
      "23 ('20', 29.169026651212789)\n",
      "24 ('4', 30.806470426290581)\n",
      "25 ('12', 45.619924831082933)\n",
      "26 ('15', 73.520956917235765)\n",
      "27 ('8', 83.362684301982227)\n",
      "28 ('11', 96.636722857899414)\n",
      "29 ('14', 134.79716158588286)\n",
      "None\n"
     ]
    }
   ],
   "source": [
    "\n",
    "def rank(reduced_history_table, pretty=False):\n",
    "\n",
    "    r = sorted(reduced_history_table.items(), key=operator.itemgetter(1))\n",
    "    if pretty is False:\n",
    "        return r\n",
    "    \n",
    "    for x in xrange(1, len(r)):\n",
    "        print x, r[x]\n",
    "        \n",
    "print rank(reduce_history(build_history_table(questions)), pretty=True)\n",
    "    "
   ]
  },
  {
   "cell_type": "code",
   "execution_count": 399,
   "metadata": {
    "collapsed": false
   },
   "outputs": [
    {
     "name": "stdout",
     "output_type": "stream",
     "text": [
      "3\n"
     ]
    },
    {
     "data": {
      "image/png": "[encoded data removed]",
      "text/plain": [
       "<matplotlib.figure.Figure at 0x1079b62d0>"
      ]
     },
     "metadata": {},
     "output_type": "display_data"
    }
   ],
   "source": [
    "# to do\n",
    "# 1. utility to print all questions with a given node in for validation\n",
    "#\n",
    "\n",
    "\n",
    "def get_data_for_entity(element, print_graph=False):\n",
    "    ack_times = []\n",
    "    route_times = []\n",
    "\n",
    "    for uid, data in questions.items():\n",
    "        g = data['graph']    \n",
    "        i = data['initiator']    \n",
    "        if element in g.nodes():\n",
    "            a = build_ack_table(g)\n",
    "            r = build_route_table(g, a)\n",
    "            ack_times.append(a.get(element, {}).get('ACK'))\n",
    "            route_times.append(r.get(element))\n",
    "            if print_graph is True:\n",
    "                nx.draw_graphviz(g, with_labels=True)\n",
    "                break\n",
    "                \n",
    "    print \"ACK times:\", ack_times\n",
    "    print \"Routing times:\", route_times\n",
    "    print \"-\" * 20\n",
    "    \n",
    "\n",
    "#get_data_for_entity('9', True)    \n",
    "    \n",
    "#for uid, score in rank(reduce_history(build_history_table(questions))):    \n",
    "#    print \"Data for {uid} score:{score}\".format(uid=uid, score=score)\n",
    "#    get_data_for_entity(uid)\n",
    "    \n",
    "def print_question(n):\n",
    "    print questions[n]['initiator']\n",
    "    nx.draw_graphviz(questions[n]['graph'], with_labels=True)\n",
    "    \n",
    "\n",
    "print_question(1)    "
   ]
  },
  {
   "cell_type": "code",
   "execution_count": 377,
   "metadata": {
    "collapsed": false
   },
   "outputs": [
    {
     "name": "stdout",
     "output_type": "stream",
     "text": [
      "{'time_start': 0, 'entity_from': 5, 'question': 2, 'time_ack': 15.218512733211, 'entity_to': 13, 'time_answer': None, 'id': 3}\n",
      "{'time_start': 0, 'entity_from': 5, 'question': 3, 'time_ack': 0.060117422716512, 'entity_to': 17, 'time_answer': None, 'id': 5}\n",
      "{'time_start': 0, 'entity_from': 5, 'question': 7, 'time_ack': 0.056955750616366, 'entity_to': 20, 'time_answer': None, 'id': 13}\n",
      "{'time_start': 0, 'entity_from': 5, 'question': 18, 'time_ack': 6.2229051321983, 'entity_to': 17, 'time_answer': None, 'id': 35}\n",
      "{'time_start': 0, 'entity_from': 5, 'question': 25, 'time_ack': 13.64599606334, 'entity_to': 19, 'time_answer': None, 'id': 49}\n",
      "{'time_start': 0, 'entity_from': 5, 'question': 29, 'time_ack': 1.1300773013969, 'entity_to': 20, 'time_answer': None, 'id': 57}\n"
     ]
    }
   ],
   "source": [
    "for row in get_useful_cursor('ask'):\n",
    "    if 5 in (row['entity_from'], row['entity_to']):\n",
    "        print row"
   ]
  },
  {
   "cell_type": "code",
   "execution_count": 388,
   "metadata": {
    "collapsed": false
   },
   "outputs": [
    {
     "data": {
      "text/plain": [
       "<function numpy.core.fromnumeric.mean>"
      ]
     },
     "execution_count": 388,
     "metadata": {},
     "output_type": "execute_result"
    }
   ],
   "source": [
    "mean\n"
   ]
  },
  {
   "cell_type": "code",
   "execution_count": 401,
   "metadata": {
    "collapsed": false
   },
   "outputs": [
    {
     "data": {
      "image/png": "[encoded data removed]",
      "text/plain": [
       "<matplotlib.figure.Figure at 0x10a414350>"
      ]
     },
     "metadata": {},
     "output_type": "display_data"
    }
   ],
   "source": [
    "import matplotlib.patches as mpatches\n",
    "import matplotlib.pyplot as plt\n",
    "\n",
    "red_patch = mpatches.Patch(color='red', label='The red data')\n",
    "plt.legend(handles=[red_patch])\n",
    "\n",
    "plt.show()"
   ]
  },
  {
   "cell_type": "code",
   "execution_count": null,
   "metadata": {
    "collapsed": true
   },
   "outputs": [],
   "source": []
  }
 ],
 "metadata": {
  "celltoolbar": "Slideshow",
  "kernelspec": {
   "display_name": "Python 2",
   "language": "python",
   "name": "python2"
  },
  "language_info": {
   "codemirror_mode": {
    "name": "ipython",
    "version": 2
   },
   "file_extension": ".py",
   "mimetype": "text/x-python",
   "name": "python",
   "nbconvert_exporter": "python",
   "pygments_lexer": "ipython2",
   "version": "2.7.9"
  }
 },
 "nbformat": 4,
 "nbformat_minor": 0
}
